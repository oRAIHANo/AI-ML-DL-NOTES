version https://git-lfs.github.com/spec/v1
oid sha256:5fc69c252ca9704d6e19c25619e4830d5913290d9ff1d1e276d1dd67046deb0d
size 1341012
