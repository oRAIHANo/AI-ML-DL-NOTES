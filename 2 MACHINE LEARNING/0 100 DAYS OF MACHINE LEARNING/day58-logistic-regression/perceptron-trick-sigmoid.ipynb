version https://git-lfs.github.com/spec/v1
oid sha256:9ccb28ce1d5434baa1685863509b07b014d36a32a4325eaa194ef398fc4d2003
size 572930
