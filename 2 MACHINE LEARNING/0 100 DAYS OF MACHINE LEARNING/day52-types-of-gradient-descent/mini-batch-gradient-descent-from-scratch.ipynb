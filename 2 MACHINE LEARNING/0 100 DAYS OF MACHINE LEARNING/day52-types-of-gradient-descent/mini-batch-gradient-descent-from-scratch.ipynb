version https://git-lfs.github.com/spec/v1
oid sha256:10b8c235cda719c9c42e9881df2c081cb3d6ca7af000f95d31369294e3d0f2d2
size 8035
