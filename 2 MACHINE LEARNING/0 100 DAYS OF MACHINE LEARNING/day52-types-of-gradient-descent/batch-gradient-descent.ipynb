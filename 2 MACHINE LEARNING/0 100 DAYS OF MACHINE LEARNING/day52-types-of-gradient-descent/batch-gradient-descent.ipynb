version https://git-lfs.github.com/spec/v1
oid sha256:96eeb6727cb80d3d241a6d9d9513351fb7830d984f1f19f483796944715f0e27
size 5802
