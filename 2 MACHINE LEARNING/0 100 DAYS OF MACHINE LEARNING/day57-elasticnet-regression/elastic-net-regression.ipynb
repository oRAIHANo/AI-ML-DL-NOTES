version https://git-lfs.github.com/spec/v1
oid sha256:7c42225f745a731f04ece0955da8fe694a180253bf5484732c15e2e65e53c207
size 3283
